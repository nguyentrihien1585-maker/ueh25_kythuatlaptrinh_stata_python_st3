{
  "cells": [
    {
      "cell_type": "markdown",
      "metadata": {
        "id": "view-in-github",
        "colab_type": "text"
      },
      "source": [
        "<a href=\"https://colab.research.google.com/github/nguyentrihien1585-maker/ueh25_kythuatlaptrinh_stata_python_st3/blob/main/buoi03.ipynb\" target=\"_parent\"><img src=\"https://colab.research.google.com/assets/colab-badge.svg\" alt=\"Open In Colab\"/></a>"
      ]
    },
    {
      "cell_type": "markdown",
      "source": [],
      "metadata": {
        "id": "soCqiHFzzz3X"
      }
    },
    {
      "cell_type": "markdown",
      "source": [
        "# Mục mới"
      ],
      "metadata": {
        "id": "8J37bDXbyd7V"
      }
    },
    {
      "cell_type": "code",
      "source": [
        "''' Python: first.py\n",
        "python first.py (interpret)\n",
        "'''\n",
        "if __name__ == \"__main__\":\n",
        "    a = 27\n",
        "    b = 6\n",
        "    c = a%b;\n",
        "    print(\"The value of c is %d.\\n\"% c)"
      ],
      "metadata": {
        "colab": {
          "base_uri": "https://localhost:8080/"
        },
        "id": "4ZRQ5r6N2ABe",
        "outputId": "f5550342-a37a-487f-c92b-147a02d5741d"
      },
      "execution_count": 2,
      "outputs": [
        {
          "output_type": "stream",
          "name": "stdout",
          "text": [
            "The value of c is 3.\n",
            "\n"
          ]
        }
      ]
    },
    {
      "cell_type": "markdown",
      "source": [],
      "metadata": {
        "id": "p_12qXmb4ij1"
      }
    },
    {
      "cell_type": "markdown",
      "source": [
        "##Ngôn ngữ lập trình\n"
      ],
      "metadata": {
        "id": "_HsxQX8B4kTZ"
      }
    },
    {
      "cell_type": "code",
      "source": [
        "from IPython.display import display"
      ],
      "metadata": {
        "id": "HCajGtq84pQX"
      },
      "execution_count": 6,
      "outputs": []
    },
    {
      "cell_type": "code",
      "source": [
        "print(\"Hello Word\")\n",
        "display('Hello Word')"
      ],
      "metadata": {
        "colab": {
          "base_uri": "https://localhost:8080/",
          "height": 53
        },
        "id": "SLyKEnWf6YBb",
        "outputId": "3e5c479c-4c68-4e40-de6a-b3d958612eac"
      },
      "execution_count": 7,
      "outputs": [
        {
          "output_type": "stream",
          "name": "stdout",
          "text": [
            "Hello Word\n"
          ]
        },
        {
          "output_type": "display_data",
          "data": {
            "text/plain": [
              "'Hello Word'"
            ],
            "application/vnd.google.colaboratory.intrinsic+json": {
              "type": "string"
            }
          },
          "metadata": {}
        }
      ]
    },
    {
      "cell_type": "code",
      "source": [
        "#comment\n",
        "'''\n",
        "comment\n",
        "'''\n"
      ],
      "metadata": {
        "id": "pdG_MDOc6_ai"
      },
      "execution_count": null,
      "outputs": []
    }
  ],
  "metadata": {
    "colab": {
      "provenance": [],
      "include_colab_link": true
    },
    "kernelspec": {
      "display_name": "Python 3",
      "name": "python3"
    }
  },
  "nbformat": 4,
  "nbformat_minor": 0
}