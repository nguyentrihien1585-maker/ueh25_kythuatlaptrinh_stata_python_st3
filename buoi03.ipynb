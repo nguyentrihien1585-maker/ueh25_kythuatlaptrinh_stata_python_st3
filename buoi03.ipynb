{
  "cells": [
    {
      "cell_type": "markdown",
      "metadata": {
        "id": "view-in-github",
        "colab_type": "text"
      },
      "source": [
        "<a href=\"https://colab.research.google.com/github/nguyentrihien1585-maker/ueh25_kythuatlaptrinh_stata_python_st3/blob/main/buoi03.ipynb\" target=\"_parent\"><img src=\"https://colab.research.google.com/assets/colab-badge.svg\" alt=\"Open In Colab\"/></a>"
      ]
    },
    {
      "cell_type": "markdown",
      "source": [],
      "metadata": {
        "id": "soCqiHFzzz3X"
      }
    },
    {
      "cell_type": "markdown",
      "source": [
        "# Mục mới"
      ],
      "metadata": {
        "id": "8J37bDXbyd7V"
      }
    },
    {
      "cell_type": "code",
      "source": [
        "''' Python: first.py\n",
        "python first.py (interpret)\n",
        "'''\n",
        "if __name__ == \"__main__\":\n",
        "    a = 27\n",
        "    b = 6\n",
        "    c = a%b;\n",
        "    print(\"The value of c is %d.\\n\"% c)"
      ],
      "metadata": {
        "colab": {
          "base_uri": "https://localhost:8080/"
        },
        "id": "4ZRQ5r6N2ABe",
        "outputId": "f5550342-a37a-487f-c92b-147a02d5741d"
      },
      "execution_count": 2,
      "outputs": [
        {
          "output_type": "stream",
          "name": "stdout",
          "text": [
            "The value of c is 3.\n",
            "\n"
          ]
        }
      ]
    },
    {
      "cell_type": "markdown",
      "source": [],
      "metadata": {
        "id": "p_12qXmb4ij1"
      }
    },
    {
      "cell_type": "markdown",
      "source": [
        "##Ngôn ngữ lập trình\n"
      ],
      "metadata": {
        "id": "_HsxQX8B4kTZ"
      }
    },
    {
      "cell_type": "code",
      "source": [
        "from IPython.display import display"
      ],
      "metadata": {
        "id": "HCajGtq84pQX"
      },
      "execution_count": 6,
      "outputs": []
    },
    {
      "cell_type": "code",
      "source": [
        "print(\"Hello Word\")\n",
        "display('Hello Word')"
      ],
      "metadata": {
        "colab": {
          "base_uri": "https://localhost:8080/",
          "height": 53
        },
        "id": "SLyKEnWf6YBb",
        "outputId": "3e5c479c-4c68-4e40-de6a-b3d958612eac"
      },
      "execution_count": 7,
      "outputs": [
        {
          "output_type": "stream",
          "name": "stdout",
          "text": [
            "Hello Word\n"
          ]
        },
        {
          "output_type": "display_data",
          "data": {
            "text/plain": [
              "'Hello Word'"
            ],
            "application/vnd.google.colaboratory.intrinsic+json": {
              "type": "string"
            }
          },
          "metadata": {}
        }
      ]
    },
    {
      "cell_type": "code",
      "source": [
        "x = 2\n",
        "y = x+1\n",
        "print(f'x ={x}, y+ {7}')"
      ],
      "metadata": {
        "colab": {
          "base_uri": "https://localhost:8080/"
        },
        "id": "pdG_MDOc6_ai",
        "outputId": "d10e894e-1ad7-41e4-cdde-c7d4b4329a64"
      },
      "execution_count": 8,
      "outputs": [
        {
          "output_type": "stream",
          "name": "stdout",
          "text": [
            "x =2, y+ 7\n"
          ]
        }
      ]
    },
    {
      "cell_type": "code",
      "source": [
        "#Inden\n",
        "score = 70\n",
        "if score >= 60:\n",
        "  print(\"Pass\")"
      ],
      "metadata": {
        "colab": {
          "base_uri": "https://localhost:8080/"
        },
        "id": "-fcoPxUe9epf",
        "outputId": "45cb8b15-5252-4bd1-92c4-24a43fd07087"
      },
      "execution_count": 10,
      "outputs": [
        {
          "output_type": "stream",
          "name": "stdout",
          "text": [
            "Pass\n"
          ]
        }
      ]
    },
    {
      "cell_type": "code",
      "source": [
        "# Python Variables\n",
        "x= 2\n",
        "price = 2.5\n",
        "word = 'Hello'\n",
        "word = \"Hello\"\n",
        "print(x,price,word)\n"
      ],
      "metadata": {
        "colab": {
          "base_uri": "https://localhost:8080/"
        },
        "id": "Pj16116o9pDR",
        "outputId": "c80d53b6-4966-4999-8994-d4c21655e454"
      },
      "execution_count": 12,
      "outputs": [
        {
          "output_type": "stream",
          "name": "stdout",
          "text": [
            "2 2.5 Hello\n"
          ]
        }
      ]
    },
    {
      "cell_type": "code",
      "source": [
        "x = \"Hello World\" #str\n",
        "x = 2  #int\n",
        "x=2.5 #float\n",
        "x= 7j #complex"
      ],
      "metadata": {
        "id": "pcclkrIO-e7T"
      },
      "execution_count": 13,
      "outputs": []
    }
  ],
  "metadata": {
    "colab": {
      "provenance": [],
      "include_colab_link": true
    },
    "kernelspec": {
      "display_name": "Python 3",
      "name": "python3"
    }
  },
  "nbformat": 4,
  "nbformat_minor": 0
}